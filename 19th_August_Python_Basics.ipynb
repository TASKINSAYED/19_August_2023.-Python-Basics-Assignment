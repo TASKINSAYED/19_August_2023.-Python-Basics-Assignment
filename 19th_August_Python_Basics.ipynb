{
 "cells": [
  {
   "cell_type": "code",
   "execution_count": 1,
   "id": "1f1f0ad8-29a0-4eb9-b38a-e83a2b20753e",
   "metadata": {},
   "outputs": [],
   "source": [
    "#TOPIC-Python Basics Variable\n",
    "#Answer of Question 1"
   ]
  },
  {
   "cell_type": "code",
   "execution_count": 2,
   "id": "4d93ae18-f083-4ebc-85fa-7b06118f4424",
   "metadata": {},
   "outputs": [],
   "source": [
    "x = 10"
   ]
  },
  {
   "cell_type": "code",
   "execution_count": 3,
   "id": "3434860c-e582-4ad0-9a58-5bfa98d31b93",
   "metadata": {},
   "outputs": [],
   "source": [
    "y = 15"
   ]
  },
  {
   "cell_type": "code",
   "execution_count": 4,
   "id": "5a527f6b-7929-4a96-84ac-5229b7974657",
   "metadata": {},
   "outputs": [
    {
     "name": "stdout",
     "output_type": "stream",
     "text": [
      "Before Swapping value of x :  10\n"
     ]
    }
   ],
   "source": [
    "print(\"Before Swapping value of x : \",x)"
   ]
  },
  {
   "cell_type": "code",
   "execution_count": 5,
   "id": "4139ec92-d6bf-4b5f-87eb-f04fe66756fd",
   "metadata": {},
   "outputs": [
    {
     "name": "stdout",
     "output_type": "stream",
     "text": [
      "Before Swapping value of y :  15\n"
     ]
    }
   ],
   "source": [
    "print(\"Before Swapping value of y : \",y)"
   ]
  },
  {
   "cell_type": "code",
   "execution_count": 6,
   "id": "d7d537ef-d435-4eb4-af98-ef71d1127612",
   "metadata": {},
   "outputs": [],
   "source": [
    "x = x + y"
   ]
  },
  {
   "cell_type": "code",
   "execution_count": 7,
   "id": "45be6a7e-4c4f-4f6b-8554-3013fa519870",
   "metadata": {},
   "outputs": [],
   "source": [
    "y = x - y"
   ]
  },
  {
   "cell_type": "code",
   "execution_count": 8,
   "id": "8cbdd224-1653-4fcd-8b26-8b149298ab58",
   "metadata": {},
   "outputs": [],
   "source": [
    "x = x - y"
   ]
  },
  {
   "cell_type": "code",
   "execution_count": 9,
   "id": "a1a4620a-fa7c-4a68-8efa-0303695964a8",
   "metadata": {},
   "outputs": [
    {
     "name": "stdout",
     "output_type": "stream",
     "text": [
      "After Swapping value of x :  15\n"
     ]
    }
   ],
   "source": [
    "print(\"After Swapping value of x : \",x)"
   ]
  },
  {
   "cell_type": "code",
   "execution_count": 10,
   "id": "126e7082-ac8d-4827-b912-60838f05bda0",
   "metadata": {},
   "outputs": [
    {
     "name": "stdout",
     "output_type": "stream",
     "text": [
      "After Swapping value of y :  10\n"
     ]
    }
   ],
   "source": [
    "print(\"After Swapping value of y : \",y)"
   ]
  },
  {
   "cell_type": "code",
   "execution_count": 11,
   "id": "ad058529-cc0d-4f47-aa87-f3d96cd03ca5",
   "metadata": {},
   "outputs": [],
   "source": [
    "#Answer of Question 2"
   ]
  },
  {
   "cell_type": "code",
   "execution_count": 12,
   "id": "afb25910-58a4-43f2-9da0-085de52dd36b",
   "metadata": {},
   "outputs": [
    {
     "name": "stdin",
     "output_type": "stream",
     "text": [
      "enter the length of rectangle :  5\n"
     ]
    }
   ],
   "source": [
    "L=int(input(\"enter the length of rectangle : \"))"
   ]
  },
  {
   "cell_type": "code",
   "execution_count": 13,
   "id": "46a83f49-2a37-422c-aacc-dc8adc5e7f75",
   "metadata": {},
   "outputs": [
    {
     "name": "stdin",
     "output_type": "stream",
     "text": [
      "Enter the bredth of rectangle :  6\n"
     ]
    }
   ],
   "source": [
    "B = int(input(\"Enter the bredth of rectangle : \"))"
   ]
  },
  {
   "cell_type": "code",
   "execution_count": 14,
   "id": "1cf7dbcf-4998-467f-850e-1dd06768174b",
   "metadata": {},
   "outputs": [
    {
     "name": "stdout",
     "output_type": "stream",
     "text": [
      "Area of Rectangle is :  30\n"
     ]
    }
   ],
   "source": [
    "print(\"Area of Rectangle is : \",L*B)"
   ]
  },
  {
   "cell_type": "code",
   "execution_count": 15,
   "id": "822fb303-1c96-4c7c-95e1-5d2c00ce3047",
   "metadata": {},
   "outputs": [],
   "source": [
    "#Answer of Q.3"
   ]
  },
  {
   "cell_type": "code",
   "execution_count": 16,
   "id": "003d6687-0166-4827-a0b3-d7b80b3e5aa1",
   "metadata": {},
   "outputs": [
    {
     "name": "stdin",
     "output_type": "stream",
     "text": [
      "Temperature in celcious:  35\n"
     ]
    }
   ],
   "source": [
    "t1=float(input(\"Temperature in celcious: \"))"
   ]
  },
  {
   "cell_type": "code",
   "execution_count": 17,
   "id": "5d4f86b9-3bb2-41dc-97fb-6ec203ef2993",
   "metadata": {},
   "outputs": [
    {
     "name": "stdout",
     "output_type": "stream",
     "text": [
      "Fahrenheit :  308.0 F\n"
     ]
    }
   ],
   "source": [
    "print(\"Fahrenheit : \",t1+273,\"F\")"
   ]
  },
  {
   "cell_type": "code",
   "execution_count": 18,
   "id": "f6487c3d-5704-4a54-96ed-7da830920660",
   "metadata": {},
   "outputs": [],
   "source": [
    "#TOPIC- String Based Questons\n",
    "#Answer of Q.1"
   ]
  },
  {
   "cell_type": "code",
   "execution_count": 19,
   "id": "7a72a3f1-bede-4ef6-998a-c5b06359b6d2",
   "metadata": {},
   "outputs": [
    {
     "name": "stdin",
     "output_type": "stream",
     "text": [
      "Enter your string :  sdtsf fdf\n"
     ]
    }
   ],
   "source": [
    "a = input(\"Enter your string : \")"
   ]
  },
  {
   "cell_type": "code",
   "execution_count": 20,
   "id": "14eb0d7a-d3ce-45ae-b96a-11619043d0fb",
   "metadata": {},
   "outputs": [
    {
     "name": "stdout",
     "output_type": "stream",
     "text": [
      "9\n"
     ]
    }
   ],
   "source": [
    "lenth=print(len(a))"
   ]
  },
  {
   "cell_type": "code",
   "execution_count": 21,
   "id": "e721b934-10b9-4c4d-b8cc-f68b7419a436",
   "metadata": {},
   "outputs": [],
   "source": [
    "#Answer of Q.2"
   ]
  },
  {
   "cell_type": "code",
   "execution_count": 22,
   "id": "430f8f74-ac73-4b4b-acc0-a1aa83d925a2",
   "metadata": {},
   "outputs": [
    {
     "name": "stdin",
     "output_type": "stream",
     "text": [
      "enter the string:  i love india\n"
     ]
    }
   ],
   "source": [
    "s1=(input(\"enter the string: \"))"
   ]
  },
  {
   "cell_type": "code",
   "execution_count": 23,
   "id": "ca2c0de7-1985-469d-b330-67b968923fc7",
   "metadata": {},
   "outputs": [],
   "source": [
    "count=0"
   ]
  },
  {
   "cell_type": "code",
   "execution_count": 24,
   "id": "6e660ceb-3e09-41b8-9626-103241778819",
   "metadata": {},
   "outputs": [],
   "source": [
    "s1=s1.lower()"
   ]
  },
  {
   "cell_type": "code",
   "execution_count": 25,
   "id": "20145a7d-d961-4420-be70-8b7f17508ae5",
   "metadata": {},
   "outputs": [],
   "source": [
    "for i in s1:\n",
    "    if i=='a' or i=='e' or i=='i' or i=='o' or i=='u':\n",
    "        count+=1"
   ]
  },
  {
   "cell_type": "code",
   "execution_count": 26,
   "id": "9979c30c-75e1-438e-bceb-a59242466328",
   "metadata": {},
   "outputs": [
    {
     "name": "stdout",
     "output_type": "stream",
     "text": [
      "total vowels are:6\n"
     ]
    }
   ],
   "source": [
    "print('total vowels are:'+str(count))"
   ]
  },
  {
   "cell_type": "code",
   "execution_count": 27,
   "id": "b3c8a3f7-0107-425b-9da0-08642eb0bef4",
   "metadata": {},
   "outputs": [],
   "source": [
    "#Answer of Q.3"
   ]
  },
  {
   "cell_type": "code",
   "execution_count": 28,
   "id": "ea97b9dc-bfe0-416e-8fec-d3346fe57be7",
   "metadata": {},
   "outputs": [],
   "source": [
    "s=\"pwskills\""
   ]
  },
  {
   "cell_type": "code",
   "execution_count": 29,
   "id": "9d70b869-0f0f-4606-8752-643a1a7496ea",
   "metadata": {},
   "outputs": [
    {
     "data": {
      "text/plain": [
       "'sllikswp'"
      ]
     },
     "execution_count": 29,
     "metadata": {},
     "output_type": "execute_result"
    }
   ],
   "source": [
    "s[::-1]"
   ]
  },
  {
   "cell_type": "code",
   "execution_count": 30,
   "id": "9eba2e49-d3cc-45cc-8ac6-ab41f89961fa",
   "metadata": {},
   "outputs": [],
   "source": [
    "#Answer of Q.4"
   ]
  },
  {
   "cell_type": "code",
   "execution_count": 31,
   "id": "3394db70-7709-4d3c-9ab4-49fabddffad1",
   "metadata": {},
   "outputs": [],
   "source": [
    "def isPalindrome(t):\n",
    "    return t==t[::-1]"
   ]
  },
  {
   "cell_type": "code",
   "execution_count": 32,
   "id": "c6874dc9-6c2a-48df-a221-b652badab3e4",
   "metadata": {},
   "outputs": [],
   "source": [
    "t=\"Nayan\""
   ]
  },
  {
   "cell_type": "code",
   "execution_count": 33,
   "id": "eaecae8f-c858-4275-9df9-240930bb4d48",
   "metadata": {},
   "outputs": [],
   "source": [
    "t=t.lower() "
   ]
  },
  {
   "cell_type": "code",
   "execution_count": 34,
   "id": "f5e5062e-8b8e-4034-9306-c23055e604f0",
   "metadata": {},
   "outputs": [],
   "source": [
    "Result=isPalindrome(t)"
   ]
  },
  {
   "cell_type": "code",
   "execution_count": 35,
   "id": "87c0f23a-d81a-405e-84b6-b84e94c6c0d9",
   "metadata": {},
   "outputs": [
    {
     "name": "stdout",
     "output_type": "stream",
     "text": [
      "String is Palindrome\n"
     ]
    }
   ],
   "source": [
    "if Result:\n",
    "    print(\"String is Palindrome\")\n",
    "else:\n",
    "    print(\"String is not Palindrome\")"
   ]
  },
  {
   "cell_type": "code",
   "execution_count": 36,
   "id": "72621b9b-4697-4608-85f0-22673c3a76ae",
   "metadata": {},
   "outputs": [],
   "source": [
    "#Answer of Q.5"
   ]
  },
  {
   "cell_type": "code",
   "execution_count": 37,
   "id": "2bb7d659-8e66-4326-9fdc-e9d5aa80e0b2",
   "metadata": {},
   "outputs": [],
   "source": [
    "text=\"  Hello World  \""
   ]
  },
  {
   "cell_type": "code",
   "execution_count": 38,
   "id": "168ef378-1ed6-470d-9b61-2d3ef591c131",
   "metadata": {},
   "outputs": [],
   "source": [
    "trimmed_text=text.strip()"
   ]
  },
  {
   "cell_type": "code",
   "execution_count": 39,
   "id": "354b4881-2fb3-49ff-8ed6-ed8488d4d4f0",
   "metadata": {},
   "outputs": [
    {
     "name": "stdout",
     "output_type": "stream",
     "text": [
      "Hello World\n"
     ]
    }
   ],
   "source": [
    "print(trimmed_text)"
   ]
  }
 ],
 "metadata": {
  "kernelspec": {
   "display_name": "Python 3 (ipykernel)",
   "language": "python",
   "name": "python3"
  },
  "language_info": {
   "codemirror_mode": {
    "name": "ipython",
    "version": 3
   },
   "file_extension": ".py",
   "mimetype": "text/x-python",
   "name": "python",
   "nbconvert_exporter": "python",
   "pygments_lexer": "ipython3",
   "version": "3.10.8"
  }
 },
 "nbformat": 4,
 "nbformat_minor": 5
}
